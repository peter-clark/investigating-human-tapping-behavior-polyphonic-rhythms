{
 "cells": [
  {
   "cell_type": "code",
   "execution_count": 4,
   "metadata": {},
   "outputs": [],
   "source": [
    "import os\n",
    "import pickle\n",
    "import csv\n",
    "import numpy as np\n",
    "\n",
    "from sklearn.tree import DecisionTreeRegressor\n",
    "from sklearn.linear_model import LinearRegression\n",
    "from sklearn.neighbors import KNeighborsRegressor\n",
    "from sklearn.svm import LinearSVR\n",
    "from sklearn.multioutput import MultiOutputRegressor\n",
    "from sklearn.model_selection import cross_val_score\n",
    "from sklearn.model_selection import RepeatedKFold\n",
    "\n",
    "import matplotlib.pyplot as plt\n",
    "import matplotlib as mpl\n",
    "import scipy.stats as stats\n",
    "from statsmodels.api import OLS\n",
    "from statsmodels.stats.multicomp import pairwise_tukeyhsd\n",
    "from itertools import chain"
   ]
  },
  {
   "cell_type": "code",
   "execution_count": 9,
   "metadata": {},
   "outputs": [
    {
     "name": "stdout",
     "output_type": "stream",
     "text": [
      "(43, 96)\n"
     ]
    }
   ],
   "source": [
    "dir = os.getcwd()\n",
    "data_dir = dir+\"/data/\"\n",
    "\n",
    "# Load test results\n",
    "data = []\n",
    "data_file = data_dir+\"tap_consistency.csv\"\n",
    "with open(data_file) as results:\n",
    "    reader = csv.reader(results)\n",
    "    for row in reader:\n",
    "        data.append(row)\n",
    "    results.close()\n",
    "\n",
    "data = np.asarray(data, dtype=float)\n",
    "print(data.shape)"
   ]
  },
  {
   "cell_type": "code",
   "execution_count": null,
   "metadata": {},
   "outputs": [],
   "source": [
    "## Define some things\n",
    "n_subjects = len(data)\n",
    "test_length = 32\n",
    "n_tests = 3\n",
    "\n",
    "# Each test has n subjects each doing 32 taps\n",
    "tap_by_test = np.array([[[0.0 for x in range(test_length)] for y in range(n_subjects)] for z in range(n_tests)], dtype=float)\n",
    "\n",
    "# Each subject has 3 tests of 32 taps\n",
    "tap_by_subject = np.array([[[0.0 for x in range(test_length)] for y in range(n_tests)] for z in range(n_subjects)], dtype=float)\n",
    "\n",
    "# Fill the arrays\n",
    "for subj in range(n_subjects):\n",
    "    line = data[subj] # 96 long (32 x 3)\n",
    "    for test in range(n_tests): # 3\n",
    "        tap_by_test[test][subj] = float(line[test*32:(test+1)*32])\n",
    "        tap_by_subject[subj][test]= float(line[test*32:(test+1)*32])"
   ]
  },
  {
   "cell_type": "code",
   "execution_count": null,
   "metadata": {},
   "outputs": [],
   "source": []
  }
 ],
 "metadata": {
  "kernelspec": {
   "display_name": "main",
   "language": "python",
   "name": "python3"
  },
  "language_info": {
   "codemirror_mode": {
    "name": "ipython",
    "version": 3
   },
   "file_extension": ".py",
   "mimetype": "text/x-python",
   "name": "python",
   "nbconvert_exporter": "python",
   "pygments_lexer": "ipython3",
   "version": "3.10.6"
  }
 },
 "nbformat": 4,
 "nbformat_minor": 2
}
