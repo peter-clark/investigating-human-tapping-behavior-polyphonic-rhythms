{
 "cells": [
  {
   "cell_type": "code",
   "execution_count": 1,
   "metadata": {},
   "outputs": [],
   "source": [
    "import pandas as pd\n",
    "import numpy as np\n",
    "import csv\n",
    "import os\n",
    "import matplotlib.pyplot as plt\n",
    "import matplotlib as mpl\n",
    "import scipy.stats as stats\n",
    "from statsmodels.api import OLS\n",
    "from statsmodels.stats.multicomp import pairwise_tukeyhsd\n",
    "from itertools import chain\n",
    "import seaborn \n",
    "import pickle\n",
    "import sklearn.metrics as sk\n",
    "from sklearn.tree import DecisionTreeRegressor\n",
    "from sklearn.linear_model import LinearRegression\n",
    "from sklearn.neighbors import KNeighborsRegressor\n",
    "from sklearn.svm import LinearSVR\n",
    "from sklearn.multioutput import MultiOutputRegressor"
   ]
  },
  {
   "cell_type": "markdown",
   "metadata": {},
   "source": [
    "## Pattern Statistics (all and experiment only) ##"
   ]
  },
  {
   "cell_type": "code",
   "execution_count": 28,
   "metadata": {},
   "outputs": [
    {
     "name": "stdout",
     "output_type": "stream",
     "text": [
      "1378\n"
     ]
    }
   ],
   "source": [
    "## Extract Pattern Data ##\n",
    "patterns_file = open(os.getcwd()+\"/data/patterns.pkl\", 'rb')\n",
    "patterns = pickle.load(patterns_file)\n",
    "patterns_file.close()\n",
    "print(len(patterns))"
   ]
  },
  {
   "cell_type": "code",
   "execution_count": 9,
   "metadata": {},
   "outputs": [],
   "source": [
    "## Extract experiment data ##\n",
    "data = []\n",
    "tap_file = os.getcwd()+\"/data/tap_rhythm_contour_raw.csv\"\n",
    "with open(tap_file) as results: \n",
    "    reader = csv.reader(results)\n",
    "    for row in reader:\n",
    "        data.append(row)\n",
    "    results.close()\n"
   ]
  },
  {
   "cell_type": "markdown",
   "metadata": {},
   "source": [
    "## Experiment Statistics ##"
   ]
  },
  {
   "cell_type": "code",
   "execution_count": 27,
   "metadata": {},
   "outputs": [
    {
     "name": "stdout",
     "output_type": "stream",
     "text": [
      "['ID', 'NAME', 't1', 't2', 't3', 't4', 't5', 't6', 't7', 't8', 't9', 't10', 't11', 't12', 't13', 't14', 't15', 't16']\n",
      "['1355', 'breakbeat_unconventional_DMR_1', '0.716535433', '0', '0', '0', '0.661417323', '0', '0.700787402', '0', '0', '0', '0.716535433', '0', '0.732283465', '0', '0', '0']\n",
      "['1043', 'chicago_promisedland_138', '0.496062992', '0', '0.417322835', '0', '0.488188976', '0', '0', '0', '0.42519685', '0', '0.456692913', '0', '0.480314961', '0', '0', '0']\n"
     ]
    }
   ],
   "source": [
    "## Clean csv file (if necessary) ## \n",
    "tap_data = []\n",
    "for row in data:\n",
    "    line = row[2:20]\n",
    "    tap_data.append(line)\n",
    "for i in range(3):\n",
    "    print(tap_data[i])"
   ]
  }
 ],
 "metadata": {
  "kernelspec": {
   "display_name": "main",
   "language": "python",
   "name": "python3"
  },
  "language_info": {
   "codemirror_mode": {
    "name": "ipython",
    "version": 3
   },
   "file_extension": ".py",
   "mimetype": "text/x-python",
   "name": "python",
   "nbconvert_exporter": "python",
   "pygments_lexer": "ipython3",
   "version": "3.10.6"
  }
 },
 "nbformat": 4,
 "nbformat_minor": 2
}
